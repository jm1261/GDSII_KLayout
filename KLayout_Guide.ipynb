{
 "cells": [
  {
   "cell_type": "code",
   "execution_count": null,
   "metadata": {},
   "outputs": [],
   "source": []
  },
  {
   "cell_type": "markdown",
   "metadata": {},
   "source": [
    "# KLayout Scripting Guide\n",
    "\n",
    "A guide to scripting in KLayout using the Python Library. This guide is inspired by the [PyPi](https://www.klayout.org/klayout-pypi) API. This guide will show you how to generate cells (structures) in KLayout and build nested cells (using a pattern in another pattern).\n",
    "\n",
    "KLayout allows users to build patterns in a database (GDSII) file, which can be read by the Raith Voyager system. Patterns may be placed in nested cells, which is the equivalent of building a position list, but can also be seen individually within the database allowing users to build a position list using the Raith tool.\n",
    "\n",
    "## Contents\n",
    "\n",
    "* [Imports](#imports)\n",
    "* [Organisation](#organisation)\n",
    "* [Flat Gratings](#flat-gratings)\n",
    "    * [Grating Parameters](#grating-parameters)\n",
    "    * [Database Setup](#database-setup)\n",
    "    * [Grating Layer](#grating-layer)\n",
    "    * [Write Out](#write-out)\n",
    "    * [Result](#result)\n",
    "* [Hierarchical Gratings](#hierarchical-gratings)\n",
    "    * [Grating Parameters](#hierarchical-grating-parameters)\n",
    "    * [Database Setup](#hierarchical-database-setup)\n",
    "    * [Grating Cell](#grating-cell)\n",
    "    * [Results](#hierarchical-result)\n",
    "    * [Nested Grating Bars](#nested-grating-bars)\n",
    "    * [Results](#nested-grating-result)\n",
    "    * [Write Out](#hierarchical-write-out)\n",
    "\n",
    "## Imports\n",
    "\n",
    "As is convention when building a python script, we will start by importing the key python libraries required to use the code in this document. The key Python library required is klayout.db.\n",
    "\n",
    "Remember that Python libraries can be installed using the pip tool, or sudo apt-get on linux devices:\n",
    "\n",
    "* python -m pip install klayout\n",
    "* sudo apt-get install python-klayout\n",
    "\n",
    "Other key libraries required are math, to perform calculations, numpy and pathlib for universal directory paths."
   ]
  },
  {
   "cell_type": "code",
   "execution_count": 53,
   "metadata": {},
   "outputs": [],
   "source": [
    "import math\n",
    "import klayout.db as db\n",
    "\n",
    "from pathlib import Path"
   ]
  },
  {
   "cell_type": "markdown",
   "metadata": {},
   "source": [
    "## Organisation\n",
    "\n",
    "We will begin by setting up the organisation (directory tree). This directory contains the scripts required to complete the processing and save out to a directory called \"Data\". This should not need changing, but if you would rather save the database files elsewhere, please adjust the out_path as required.\n",
    "\n",
    "As we are using pathlib to set our directory paths, this is a simple f-string in python.\n",
    "\n",
    "[Back To Top](#contents)"
   ]
  },
  {
   "cell_type": "code",
   "execution_count": 54,
   "metadata": {},
   "outputs": [
    {
     "name": "stdout",
     "output_type": "stream",
     "text": [
      "c:\\Users\\joshs\\github\\Cleanroom_Toolkit\\GDSII_KLayout\\Data\n"
     ]
    }
   ],
   "source": [
    "root = Path().absolute()\n",
    "out_path = Path(f'{root}/Data')\n",
    "print(out_path)"
   ]
  },
  {
   "cell_type": "markdown",
   "metadata": {},
   "source": [
    "## Flat Gratings\n",
    "\n",
    "Flat gratings are one-dimensional periodic structures with a constant period and fill factor. The most basic of periodic structures. We will begin by setting up the grating parameters and then we will create the individual grating cell and nest with labelling text.\n",
    "\n",
    "### Grating Parameters\n",
    "\n",
    "We begin by setting the initial grating parameters, namely the height and width of the overall grating, the grating period, filling factor (i.e., how much of the period is filled with the grating material), and the dose factor (the dose scaling factor used by the Raith system).\n",
    "\n",
    "In KLayout, the dose factor is scaled differently to the Raith system. The Raith system may use a dose factor of \"1\", and in KLayout this would be \"1000\", and \"1.2\" is \"1200\" etc. This is a simple scaling factor that we will add later, for now please use the Raith dose factor that you would like to achieve, e.g., \"1\".\n",
    "\n",
    "Please note that KLayout defaults to millimeter scaling, but later we will set the database units to micrometers. Hence the following parameters are set to micrometers.\n",
    "\n",
    "[Back To Top](#contents)"
   ]
  },
  {
   "cell_type": "code",
   "execution_count": 55,
   "metadata": {},
   "outputs": [],
   "source": [
    "grating_height = 500\n",
    "grating_width = 500\n",
    "dose_factor = 1\n",
    "grating_period = 0.550\n",
    "fill_factor = 0.7"
   ]
  },
  {
   "cell_type": "markdown",
   "metadata": {},
   "source": [
    "### Database Setup\n",
    "\n",
    "Now we will set up the KLayout database to contain our grating structures. We do this using the db.Layout() function, and then set the database units to be micrometers.\n",
    "\n",
    "As KLayout is a database of cells, we need to give the database a top cell, this can be called whatever you would like, but the convention is to use \"TOP\". Please change the naming however you would like it to appear.\n",
    "\n",
    "[Back To Top](#contents)"
   ]
  },
  {
   "cell_type": "code",
   "execution_count": 56,
   "metadata": {},
   "outputs": [],
   "source": [
    "layout = db.Layout()\n",
    "layout.dbu = 0.001  # millimeters to micrometers\n",
    "top_cell = layout.create_cell(\"TOP\")\n",
    "top_layer = layout.layer(1, dose_factor * 1000)"
   ]
  },
  {
   "cell_type": "markdown",
   "metadata": {},
   "source": [
    "### Grating Layer\n",
    "\n",
    "Now that we have a cell called \"TOP\", we want to start building our grating. We start by finding the number of periods in the grating width as a whole number, then we create a database point (the bottom left point of the grating). From this point we extend the box as a vector of the width and height of the grating bar.\n",
    "\n",
    "Finally, we add the shape to the grating layer and repeat for the number of boxes in the total grating width. We are just going to add our grating to the top cell directly, later on we will discuss nesting cells.\n",
    "\n",
    "Recall that the filling factor is the area of the period filled by the grating and that writing into positive photoresist is writing the air, so we need to introduce a (1-fill_factor) into the calculation.\n",
    "\n",
    "You will see that we start the grating point at a number (i) multiplied by the grating period, and then extend this point to create a box using the database vector.\n",
    "\n",
    "[Back To Top](#contents)"
   ]
  },
  {
   "cell_type": "code",
   "execution_count": 57,
   "metadata": {},
   "outputs": [],
   "source": [
    "number_of_boxes = math.floor(grating_width / grating_period)\n",
    "for i in range(0, number_of_boxes):\n",
    "    starting_point = db.DPoint(i * grating_period, 0)\n",
    "    grating_box = db.DBox(\n",
    "        starting_point,\n",
    "        (\n",
    "            starting_point +\n",
    "            db.DVector(grating_period * (1 - fill_factor), grating_height)\n",
    "        )\n",
    "    )\n",
    "    top_cell.shapes(top_layer).insert(grating_box)"
   ]
  },
  {
   "cell_type": "markdown",
   "metadata": {},
   "source": [
    "### Write Out\n",
    "\n",
    "Now we have built the grating structure and we want to write it out and save as a database file. For the purpose of this guide, I will use the file name \"Example_FlatGratings.gds\", and all this should contain is a cell called \"TOP\" with a grating of 550nm period in a 500x500 micrometer square. The grating should have a fill factor of 0.7, which will be the white area in KLayout, the written boxes (pink/purple) in colour, will be 0.3 fill factor.\n",
    "\n",
    "[Back To Top](#contents)"
   ]
  },
  {
   "cell_type": "code",
   "execution_count": 58,
   "metadata": {},
   "outputs": [
    {
     "data": {
      "text/plain": [
       "<klayout.dbcore.Layout at 0x22d72f09ee0>"
      ]
     },
     "execution_count": 58,
     "metadata": {},
     "output_type": "execute_result"
    }
   ],
   "source": [
    "layout.write(f'{out_path}/Example_FlatGratings.gds')"
   ]
  },
  {
   "cell_type": "markdown",
   "metadata": {},
   "source": [
    "### Result\n",
    "\n",
    "The result should be something that looks like this:\n",
    "\n",
    "![Example_FlatGratings.png](./src/Images/Example_FlatGratings.png)\n",
    "\n",
    "A flat grating of period 550nm with a total grating size of 500x500um, and in a cell called \"TOP\".\n",
    "\n",
    "[Back To Top](#contents)"
   ]
  },
  {
   "cell_type": "markdown",
   "metadata": {},
   "source": [
    "## Hierarchical Gratings\n",
    "\n",
    "Now we will discuss nesting cells inside another cell. You may be familiar with the Hierarchy system, or nested system, or layered system. Essentially we are going to build a basic structure in a cell as before, but then we are going to nest that cell within a higher cell, and repeat the structure to create a grating.\n",
    "\n",
    "Again, we will only consider flat gratings in this section.\n",
    "\n",
    "### Hierarchical Grating Parameters\n",
    "\n",
    "We begin by setting the initial grating parameters, namely the height and width of the overall grating, the grating period, filling factor, and the dose factor. Recall that in KLayout the dose factor is scaled differently, as discussed in [Grating Parameters](#grating-parameters). Please note that KLayout defaults to millimeter scaling, but later we will set the database units to micrometers, hence the following parameters are in micrometers.\n",
    "\n",
    "[Back To Top](#contents)"
   ]
  },
  {
   "cell_type": "code",
   "execution_count": 59,
   "metadata": {},
   "outputs": [],
   "source": [
    "grating_height = 500\n",
    "grating_width = 500\n",
    "dose_factor = 1\n",
    "grating_period = 0.550\n",
    "fill_factor = 0.7"
   ]
  },
  {
   "cell_type": "markdown",
   "metadata": {},
   "source": [
    "### Hierarchical Database Setup\n",
    "\n",
    "Now we will set up the KLayout database to contain our grating structures. We do this using the db.Layout() function, and then set the database units to be micrometers.\n",
    "\n",
    "As we are setting up a series of cells, we will begin with a top cell, called \"TOP\" and will define the grating cells later. Note that here we do not define a layer, this is because we will define the layers in the grating cell portion.\n",
    "\n",
    "[Back To Top](#contents)"
   ]
  },
  {
   "cell_type": "code",
   "execution_count": 60,
   "metadata": {},
   "outputs": [],
   "source": [
    "layout = db.Layout()\n",
    "layout.dbu = 0.001\n",
    "top_cell = layout.create_cell(\"TOP\")"
   ]
  },
  {
   "cell_type": "markdown",
   "metadata": {},
   "source": [
    "### Grating Cell\n",
    "\n",
    "Now that we have a top cell and a database, we can begin by setting up the grating cell, before inserting it into the top cell.\n",
    "\n",
    "We create a new cell, specifically for the grating, named \"Grating\" and apply a layer to that cell with the dose factor and dose factor scaling of 1000 as before. Then we create the grating, in much the same was as in [Grating Layer](#grating-layer) but we apply the grating to the grating cell.\n",
    "\n",
    "Once we have got the grating, we add the grating cell to the top cell using the .insert() function and giving it a translational vector. Because we began the grating at (0, 0) in the grating cell, we are moving the (0, 0) position using this grating. For now, we will not move the grating in the top cell, hence the vector is given a (0, 0).\n",
    "\n",
    "[Back To Top](#contents)"
   ]
  },
  {
   "cell_type": "code",
   "execution_count": 61,
   "metadata": {},
   "outputs": [
    {
     "data": {
      "text/plain": [
       "cell_index=1 r0 0,0"
      ]
     },
     "execution_count": 61,
     "metadata": {},
     "output_type": "execute_result"
    }
   ],
   "source": [
    "grating_cell = layout.create_cell(\"Grating\")\n",
    "grating_layer = layout.layer(1, dose_factor * 1000)\n",
    "number_of_boxes = math.floor(grating_width / grating_period)\n",
    "for i in range(0, number_of_boxes):\n",
    "    starting_point = db.DPoint(i * grating_period, 0)\n",
    "    grating_box = db.DBox(\n",
    "        starting_point,\n",
    "        (\n",
    "            starting_point +\n",
    "            db.DVector(grating_period * (1 - fill_factor), grating_height)\n",
    "        )\n",
    "    )\n",
    "    grating_cell.shapes(grating_layer).insert(grating_box)\n",
    "top_cell.insert(\n",
    "    db.DCellInstArray(\n",
    "        grating_cell.cell_index(),\n",
    "        db.DTrans(\n",
    "            db.DVector(0, 0)\n",
    "        )\n",
    "    )\n",
    ")"
   ]
  },
  {
   "cell_type": "markdown",
   "metadata": {},
   "source": [
    "### Hierarchical Result\n",
    "\n",
    "The result should be something that looks like this:\n",
    "\n",
    "![Example_FlatGratings.png](./src/Images/Example_HierarchicalGratings.png)\n",
    "\n",
    "A flat grating of period 550nm with a total grating size of 500x500um, and in a cell called \"Grating\" which is nested in the \"TOP\" cell.\n",
    "\n",
    "### Nested Grating Bars\n",
    "\n",
    "Taking this a step further, what if we build the grating bar and nest it within the grating cell which is further nested in the top cell?\n",
    "\n",
    "We start by building a bar_cell and giving it its own dose, this is purely for appearance in the example database as the two will appear as different colours. We build the bar by giving it a starting point, where here we have arbitrarily given it a (0, 0) starting point, and then we give it a vector as the grating period multiplied by (1 - fill factor), and the grating height. Then we add the bar shape to the bar cell, in much the same fashion as before. Then we use the same formulation to add the bar cell to the grating cell in a periodic repetition, finally adding the grating cell to the top cell as before.\n",
    "\n",
    "Here I have added the second grating to the top cell at a 600um spacing to the first grating so that both are visible in the top cell. This is the same method that will be used to create rows of gratings going forward.\n",
    "\n",
    "[Back To Top](#contents)"
   ]
  },
  {
   "cell_type": "code",
   "execution_count": 64,
   "metadata": {},
   "outputs": [
    {
     "data": {
      "text/plain": [
       "cell_index=5 r0 600000,0"
      ]
     },
     "execution_count": 64,
     "metadata": {},
     "output_type": "execute_result"
    }
   ],
   "source": [
    "bar_cell = layout.create_cell(\"Bar\")\n",
    "bar_layer = layout.layer(2, dose_factor * 1000)\n",
    "starting_point = db.DPoint(0, 0)\n",
    "grating_bar = db.DBox(\n",
    "    starting_point,\n",
    "    (\n",
    "        starting_point +\n",
    "        db.DVector(grating_period * (1 - fill_factor), grating_height)\n",
    "    )\n",
    ")\n",
    "bar_cell.shapes(bar_layer).insert(grating_bar)\n",
    "grating_cell2 = layout.create_cell(\"Grating_2\")\n",
    "x_vector = db.DVector(grating_period, 0)\n",
    "number_of_boxes = math.floor(grating_width / grating_period)\n",
    "for i in range(0, number_of_boxes):\n",
    "    grating_cell2.insert(\n",
    "        db.DCellInstArray(\n",
    "            bar_cell.cell_index(),\n",
    "            db.DTrans(\n",
    "                i * grating_period,\n",
    "                0\n",
    "            )\n",
    "        )\n",
    "    )\n",
    "top_cell.insert(db.DCellInstArray(grating_cell2.cell_index(), db.DTrans(db.DVector(600, 0))))"
   ]
  },
  {
   "cell_type": "markdown",
   "metadata": {},
   "source": [
    "### Nested Grating Result\n",
    "\n",
    "Now we see two gratings, spaced by 600um, where grating 2 is a nested cell or bars repeated to make the grating. While this is not immensely useful as most people will want to create a grating in one cell, it can be useful for other design files.\n",
    "\n",
    "![Example_FlatGratings.png](./src/Images/Example_HierarchicalGratings2.png)\n",
    "\n",
    "### Hierarchical Write Out\n",
    "\n",
    "Now we have built the grating cell and applied it to the top cell, we want to write out. This is much the same as before, but I will call this \"Example_HierarchicalGratings.gds\". This should create a cell called \"TOP\" under which there is a cell called \"Grating\" into which we wrote out grating pattern, with period, fill factor, and dose as detailed above.\n",
    "\n",
    "[Back To Top](#contents)"
   ]
  },
  {
   "cell_type": "code",
   "execution_count": 63,
   "metadata": {},
   "outputs": [
    {
     "data": {
      "text/plain": [
       "<klayout.dbcore.Layout at 0x22d72f55ee0>"
      ]
     },
     "execution_count": 63,
     "metadata": {},
     "output_type": "execute_result"
    }
   ],
   "source": [
    "layout.write(f'{out_path}/Example_HierarchicalGratings.gds')"
   ]
  }
 ],
 "metadata": {
  "kernelspec": {
   "display_name": "Python 3",
   "language": "python",
   "name": "python3"
  },
  "language_info": {
   "codemirror_mode": {
    "name": "ipython",
    "version": 3
   },
   "file_extension": ".py",
   "mimetype": "text/x-python",
   "name": "python",
   "nbconvert_exporter": "python",
   "pygments_lexer": "ipython3",
   "version": "3.10.0"
  },
  "orig_nbformat": 4
 },
 "nbformat": 4,
 "nbformat_minor": 2
}
