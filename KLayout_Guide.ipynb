{
 "cells": [
  {
   "cell_type": "markdown",
   "metadata": {},
   "source": [
    "# KLayout Scripting Guide\n",
    "\n",
    "A guide to scripting in KLayout using the Python Library. This guide is inspired by the [PyPi](https://www.klayout.org/klayout-pypi) API. This guide will show you how to generate cells (structures) in KLayout and build nested cells (using a pattern in another pattern).\n",
    "\n",
    "KLayout allows users to build patterns in a database (GDSII) file, which can be read by the Raith Voyager system. Patterns may be placed in nested cells, which is the equivalent of building a position list, but can also be seen individually within the database allowing users to build a position list using the Raith tool.\n",
    "\n",
    "## Contents\n",
    "\n",
    "* [Imports](#imports)\n",
    "* [Organisation](#organisation)\n",
    "* [Flat Gratings](#flat-gratings)\n",
    "    * [Grating Parameters](#grating-parameters)\n",
    "    * [Database Setup](#database-setup)\n",
    "    * [Grating Layer](#grating-layer)\n",
    "    * [Write Out](#write-out)\n",
    "    * [Results](#result)\n",
    "* [Hierarchical Gratings](#hierarchical-gratings)\n",
    "    * [Database Setup](#hierarchical-database-setup)\n",
    "    * [Grating Cell](#grating-cell)\n",
    "    * [Results](#hierarchical-result)\n",
    "    * [Nested Grating Bars](#nested-grating-bars)\n",
    "    * [Results](#nested-grating-result)\n",
    "    * [Write Out](#hierarchical-write-out)\n",
    "* [Rotations and Transformations](#rotations-and-transformations)\n",
    "    * [Database Setup](#rotations-database-setup)\n",
    "    * [Grating Cell](#rotations-grating-cell)\n",
    "    * [Rotating and Transforming](#rotating-and-transforming-cells)\n",
    "    * [Results](#rotation-grating-results)\n",
    "    * [Write Out](#rotation-write-out)\n",
    "* [Mering Layouts](#merging-layouts)\n",
    "    * [Database Setup](#merging-database-setup)\n",
    "    * [Import Databases](#import-databases)\n",
    "    * [Results](#merging-results)\n",
    "    * [Write Out](#merging-write-out)\n",
    "* [Creating a Chip](#creating-a-chip)\n",
    "    * [Chip Database Setup](#chip-database-setup)\n",
    "    * [Flat Grating Generation](#flat-grating-generation)\n",
    "    * [Flat Grating Cell](#flat-grating-cell)\n",
    "        * [Dose Factor](#dose-factor-loop)\n",
    "        * [Fill Factor](#fill-factor-loop)\n",
    "        * [Period](#period-loop)\n",
    "        * [Putting Together](#putting-together)\n",
    "    * [Write Out](#flat-cell-write-out)\n",
    "\n",
    "## Imports\n",
    "\n",
    "As is convention when building a python script, we will start by importing the key python libraries required to use the code in this document. The key Python library required is klayout.db.\n",
    "\n",
    "Remember that Python libraries can be installed using the pip tool, or sudo apt-get on linux devices:\n",
    "\n",
    "* python -m pip install klayout\n",
    "* sudo apt-get install python-klayout\n",
    "\n",
    "Other key libraries required are math, to perform calculations, numpy and pathlib for universal directory paths."
   ]
  },
  {
   "cell_type": "code",
   "execution_count": 1499,
   "metadata": {},
   "outputs": [],
   "source": [
    "import math\n",
    "import numpy as np\n",
    "import klayout.db as db\n",
    "\n",
    "from pathlib import Path"
   ]
  },
  {
   "cell_type": "markdown",
   "metadata": {},
   "source": [
    "## Organisation\n",
    "\n",
    "We will begin by setting up the organisation (directory tree). This directory contains the scripts required to complete the processing and save out to a directory called \"Data\". This should not need changing, but if you would rather save the database files elsewhere, please adjust the out_path as required.\n",
    "\n",
    "As we are using pathlib to set our directory paths, this is a simple f-string in python.\n",
    "\n",
    "[Back To Top](#contents)"
   ]
  },
  {
   "cell_type": "code",
   "execution_count": 1500,
   "metadata": {},
   "outputs": [
    {
     "name": "stdout",
     "output_type": "stream",
     "text": [
      "c:\\Users\\joshs\\github\\Cleanroom_Toolkit\\GDSII_KLayout\\Data\n"
     ]
    }
   ],
   "source": [
    "root = Path().absolute()\n",
    "out_path = Path(f'{root}/Data')\n",
    "print(out_path)"
   ]
  },
  {
   "cell_type": "markdown",
   "metadata": {},
   "source": [
    "## Flat Gratings\n",
    "\n",
    "Flat gratings are one-dimensional periodic structures with a constant period and fill factor. The most basic of periodic structures. We will begin by setting up the grating parameters and then we will create the individual grating cell and nest with labelling text.\n",
    "\n",
    "### Grating Parameters\n",
    "\n",
    "We begin by setting the initial grating parameters, namely the height and width of the overall grating, the grating period, filling factor (i.e., how much of the period is filled with the grating material), and the dose factor (the dose scaling factor used by the Raith system).\n",
    "\n",
    "In KLayout, the dose factor is scaled differently to the Raith system. The Raith system may use a dose factor of \"1\", and in KLayout this would be \"1000\", and \"1.2\" is \"1200\" etc. This is a simple scaling factor that we will add later, for now please use the Raith dose factor that you would like to achieve, e.g., \"1\".\n",
    "\n",
    "Please note that KLayout defaults to millimeter scaling, but later we will set the database units to micrometers. Hence the following parameters are set to micrometers.\n",
    "\n",
    "[Back To Top](#contents)"
   ]
  },
  {
   "cell_type": "code",
   "execution_count": 1501,
   "metadata": {},
   "outputs": [],
   "source": [
    "grating_height = 500\n",
    "grating_width = 500\n",
    "dose_factor = 1\n",
    "grating_period = 0.550\n",
    "fill_factor = 0.7"
   ]
  },
  {
   "cell_type": "markdown",
   "metadata": {},
   "source": [
    "### Database Setup\n",
    "\n",
    "Now we will set up the KLayout database to contain our grating structures. We do this using the db.Layout() function, and then set the database units to be micrometers.\n",
    "\n",
    "As KLayout is a database of cells, we need to give the database a top cell, this can be called whatever you would like, but the convention is to use \"TOP\". Please change the naming however you would like it to appear.\n",
    "\n",
    "[Back To Top](#contents)"
   ]
  },
  {
   "cell_type": "code",
   "execution_count": 1502,
   "metadata": {},
   "outputs": [],
   "source": [
    "layout = db.Layout()\n",
    "layout.dbu = 0.001  # millimeters to micrometers\n",
    "top_cell = layout.create_cell(\"TOP\")\n",
    "top_layer = layout.layer(1, dose_factor * 1000)"
   ]
  },
  {
   "cell_type": "markdown",
   "metadata": {},
   "source": [
    "### Grating Layer\n",
    "\n",
    "Now that we have a cell called \"TOP\", we want to start building our grating. We start by finding the number of periods in the grating width as a whole number, then we create a database point (the bottom left point of the grating). From this point we extend the box as a vector of the width and height of the grating bar.\n",
    "\n",
    "Finally, we add the shape to the grating layer and repeat for the number of boxes in the total grating width. We are just going to add our grating to the top cell directly, later on we will discuss nesting cells.\n",
    "\n",
    "Recall that the filling factor is the area of the period filled by the grating and that writing into positive photoresist is writing the air, so we need to introduce a (1-fill_factor) into the calculation.\n",
    "\n",
    "You will see that we start the grating point at a number (i) multiplied by the grating period, and then extend this point to create a box using the database vector.\n",
    "\n",
    "[Back To Top](#contents)"
   ]
  },
  {
   "cell_type": "code",
   "execution_count": 1503,
   "metadata": {},
   "outputs": [],
   "source": [
    "number_of_boxes = math.floor(grating_width / grating_period)\n",
    "for i in range(0, number_of_boxes):\n",
    "    starting_point = db.DPoint(i * grating_period, 0)\n",
    "    grating_box = db.DBox(\n",
    "        starting_point,\n",
    "        (\n",
    "            starting_point +\n",
    "            db.DVector(grating_period * (1 - fill_factor), grating_height)\n",
    "        )\n",
    "    )\n",
    "    top_cell.shapes(top_layer).insert(grating_box)"
   ]
  },
  {
   "cell_type": "markdown",
   "metadata": {},
   "source": [
    "### Write Out\n",
    "\n",
    "Now we have built the grating structure and we want to write it out and save as a database file. For the purpose of this guide, I will use the file name \"Example_FlatGratings.gds\", and all this should contain is a cell called \"TOP1\" with a grating of 550nm period in a 500x500 micrometer square. The grating should have a fill factor of 0.7, which will be the white area in KLayout, the written boxes (pink/purple) in colour, will be 0.3 fill factor.\n",
    "\n",
    "[Back To Top](#contents)"
   ]
  },
  {
   "cell_type": "code",
   "execution_count": 1504,
   "metadata": {},
   "outputs": [
    {
     "data": {
      "text/plain": [
       "<klayout.dbcore.Layout at 0x22d0f5b4c80>"
      ]
     },
     "execution_count": 1504,
     "metadata": {},
     "output_type": "execute_result"
    }
   ],
   "source": [
    "layout.write(f'{out_path}/Example_FlatGratings.gds')"
   ]
  },
  {
   "cell_type": "markdown",
   "metadata": {},
   "source": [
    "### Result\n",
    "\n",
    "The result should be something that looks like this:\n",
    "\n",
    "![Example_FlatGratings.png](./src/Images/Example_FlatGratings.png)\n",
    "\n",
    "A flat grating of period 550nm with a total grating size of 500x500um, and in a cell called \"TOP\".\n",
    "\n",
    "[Back To Top](#contents)"
   ]
  },
  {
   "cell_type": "markdown",
   "metadata": {},
   "source": [
    "## Hierarchical Gratings\n",
    "\n",
    "Now we will discuss nesting cells inside another cell. You may be familiar with the Hierarchy system, or nested system, or layered system. Essentially we are going to build a basic structure in a cell as before, but then we are going to nest that cell within a higher cell, and repeat the structure to create a grating.\n",
    "\n",
    "Again, we will only consider flat gratings in this section.\n",
    "\n",
    "### Hierarchical Database Setup\n",
    "\n",
    "Now we will set up the KLayout database to contain our grating structures. We do this in the same way as before with db.Layout() and we create a top cell, named \"TOP\". Here we have not defined a layer or dose, as this will be done within the grating cell. Note that we have set the database units to um.\n",
    "\n",
    "[Back To Top](#contents)"
   ]
  },
  {
   "cell_type": "code",
   "execution_count": 1505,
   "metadata": {},
   "outputs": [],
   "source": [
    "layout = db.Layout()\n",
    "layout.dbu = 0.001\n",
    "top_cell = layout.create_cell(\"TOP\")"
   ]
  },
  {
   "cell_type": "markdown",
   "metadata": {},
   "source": [
    "### Grating Cell\n",
    "\n",
    "Now that we have a top cell and a database, we can begin by setting up the grating cell, before inserting it into the top cell.\n",
    "\n",
    "We create a new cell, specifically for the grating, named \"Grating\" and apply a layer to that cell with the dose factor and dose factor scaling of 1000 as before. Then we create the grating, in much the same was as in [Grating Layer](#grating-layer) but we apply the grating to the grating cell.\n",
    "\n",
    "Once we have got the grating, we add the grating cell to the top cell using the .insert() function and giving it a translational vector. Because we began the grating at (0, 0) in the grating cell, we are moving the (0, 0) position using this grating. For now, we will not move the grating in the top cell, hence the vector is given a (0, 0).\n",
    "\n",
    "[Back To Top](#contents)"
   ]
  },
  {
   "cell_type": "code",
   "execution_count": 1506,
   "metadata": {},
   "outputs": [
    {
     "data": {
      "text/plain": [
       "cell_index=1 r0 0,0"
      ]
     },
     "execution_count": 1506,
     "metadata": {},
     "output_type": "execute_result"
    }
   ],
   "source": [
    "grating_cell = layout.create_cell(\"Grating\")\n",
    "grating_layer = layout.layer(1, dose_factor * 1000)\n",
    "number_of_boxes = math.floor(grating_width / grating_period)\n",
    "for i in range(0, number_of_boxes):\n",
    "    starting_point = db.DPoint(i * grating_period, 0)\n",
    "    grating_box = db.DBox(\n",
    "        starting_point,\n",
    "        (\n",
    "            starting_point +\n",
    "            db.DVector(grating_period * (1 - fill_factor), grating_height)\n",
    "        )\n",
    "    )\n",
    "    grating_cell.shapes(grating_layer).insert(grating_box)\n",
    "top_cell.insert(\n",
    "    db.DCellInstArray(\n",
    "        grating_cell.cell_index(),\n",
    "        db.DTrans(\n",
    "            db.DVector(0, 0)\n",
    "        )\n",
    "    )\n",
    ")"
   ]
  },
  {
   "cell_type": "markdown",
   "metadata": {},
   "source": [
    "### Hierarchical Result\n",
    "\n",
    "The result should be something that looks like this:\n",
    "\n",
    "![Example_FlatGratings.png](./src/Images/Example_HierarchicalGratings.png)\n",
    "\n",
    "A flat grating of period 550nm with a total grating size of 500x500um, and in a cell called \"Grating\" which is nested in the \"TOP\" cell.\n",
    "\n",
    "### Nested Grating Bars\n",
    "\n",
    "Taking this a step further, what if we build the grating bar and nest it within the grating cell which is further nested in the top cell?\n",
    "\n",
    "We start by building a bar_cell and giving it its own dose, this is purely for appearance in the example database as the two will appear as different colours. We build the bar by giving it a starting point, where here we have arbitrarily given it a (0, 0) starting point, and then we give it a vector as the grating period multiplied by (1 - fill factor), and the grating height. Then we add the bar shape to the bar cell, in much the same fashion as before. Then we use the same formulation to add the bar cell to the grating cell in a periodic repetition, finally adding the grating cell to the top cell as before.\n",
    "\n",
    "Here I have added the second grating to the top cell at a 600um spacing to the first grating so that both are visible in the top cell. This is the same method that will be used to create rows of gratings going forward.\n",
    "\n",
    "[Back To Top](#contents)"
   ]
  },
  {
   "cell_type": "code",
   "execution_count": 1507,
   "metadata": {},
   "outputs": [
    {
     "data": {
      "text/plain": [
       "cell_index=3 r0 600000,0"
      ]
     },
     "execution_count": 1507,
     "metadata": {},
     "output_type": "execute_result"
    }
   ],
   "source": [
    "bar_cell = layout.create_cell(\"Bar\")\n",
    "bar_layer = layout.layer(2, dose_factor * 1000)\n",
    "starting_point = db.DPoint(0, 0)\n",
    "grating_bar = db.DBox(\n",
    "    starting_point,\n",
    "    (\n",
    "        starting_point +\n",
    "        db.DVector(grating_period * (1 - fill_factor), grating_height)\n",
    "    )\n",
    ")\n",
    "bar_cell.shapes(bar_layer).insert(grating_bar)\n",
    "grating_cell2 = layout.create_cell(\"Grating_2\")\n",
    "x_vector = db.DVector(grating_period, 0)\n",
    "number_of_boxes = math.floor(grating_width / grating_period)\n",
    "for i in range(0, number_of_boxes):\n",
    "    grating_cell2.insert(\n",
    "        db.DCellInstArray(\n",
    "            bar_cell.cell_index(),\n",
    "            db.DTrans(\n",
    "                i * grating_period,\n",
    "                0\n",
    "            )\n",
    "        )\n",
    "    )\n",
    "top_cell.insert(db.DCellInstArray(grating_cell2.cell_index(), db.DTrans(db.DVector(600, 0))))"
   ]
  },
  {
   "cell_type": "markdown",
   "metadata": {},
   "source": [
    "### Nested Grating Result\n",
    "\n",
    "Now we see two gratings, spaced by 600um, where grating 2 is a nested cell or bars repeated to make the grating. While this is not immensely useful as most people will want to create a grating in one cell, it can be useful for other design files.\n",
    "\n",
    "![Example_FlatGratings.png](./src/Images/Example_HierarchicalGratings2.png)\n",
    "\n",
    "### Hierarchical Write Out\n",
    "\n",
    "Now we have built the grating cell and applied it to the top cell, we want to write out. This is much the same as before, but I will call this \"Example_HierarchicalGratings.gds\". This should create a cell called \"TOP\" under which there is a cell called \"Grating\" into which we wrote our grating pattern, with period, fill factor, and dose as detailed above.\n",
    "\n",
    "[Back To Top](#contents)"
   ]
  },
  {
   "cell_type": "code",
   "execution_count": 1508,
   "metadata": {},
   "outputs": [
    {
     "data": {
      "text/plain": [
       "<klayout.dbcore.Layout at 0x22d115bc3c0>"
      ]
     },
     "execution_count": 1508,
     "metadata": {},
     "output_type": "execute_result"
    }
   ],
   "source": [
    "layout.write(f'{out_path}/Example_HierarchicalGratings.gds')"
   ]
  },
  {
   "cell_type": "markdown",
   "metadata": {},
   "source": [
    "## Rotations and Transformations\n",
    "\n",
    "What if we want to change the orientation of a grating, so that instead of the bars running vertically as they have done in previous examples, they now run horizontally, or at any angle?\n",
    "\n",
    "Again, we will only consider flat gratings in this section.\n",
    "\n",
    "### Rotations Database Setup\n",
    "\n",
    "Now we will set up the KLayout database to contain our grating structures. We do this in the same way as before, creating a top cell, named \"TOP\", and defining the database units as um.\n",
    "\n",
    "[Back To Top](#contents)"
   ]
  },
  {
   "cell_type": "code",
   "execution_count": 1509,
   "metadata": {},
   "outputs": [],
   "source": [
    "layout = db.Layout()\n",
    "layout.dbu = 0.001\n",
    "top_cell = layout.create_cell(\"TOP\")"
   ]
  },
  {
   "cell_type": "markdown",
   "metadata": {},
   "source": [
    "### Rotations Grating Cell\n",
    "\n",
    "Now that we have a top cell and a database, we can begin by setting up the grating cell, before inserting it into the top cell.\n",
    "\n",
    "Here we will use only one grating cell, and we will then apply four copies of this to the top cell to demonstrate the complex transformations. We have used the bar cell and period inserts to create a nested grating cell. Note that here we have not inserted the grating cell into the top cell.\n",
    "\n",
    "[Back To Top](#contents)"
   ]
  },
  {
   "cell_type": "code",
   "execution_count": 1510,
   "metadata": {},
   "outputs": [],
   "source": [
    "bar_cell = layout.create_cell(\"Bar\")\n",
    "bar_layer = layout.layer(1, dose_factor * 1000)\n",
    "starting_point = db.DPoint(0, 0)\n",
    "grating_bar = db.DBox(\n",
    "    starting_point,\n",
    "    (\n",
    "        starting_point +\n",
    "        db.DVector(grating_period * (1 - fill_factor), grating_height)\n",
    "    )\n",
    ")\n",
    "bar_cell.shapes(bar_layer).insert(grating_bar)\n",
    "grating_cell = layout.create_cell(\"Grating\")\n",
    "x_vector = db.DVector(grating_period, 0)\n",
    "number_of_boxes = math.floor(grating_width / grating_period)\n",
    "for i in range(0, number_of_boxes):\n",
    "    grating_cell.insert(\n",
    "        db.DCellInstArray(\n",
    "            bar_cell.cell_index(),\n",
    "            db.DTrans(\n",
    "                i * grating_period,\n",
    "                0\n",
    "            )\n",
    "        )\n",
    "    )"
   ]
  },
  {
   "cell_type": "markdown",
   "metadata": {},
   "source": [
    "### Rotating and Transforming Cells\n",
    "\n",
    "To rotate and transform a cell, we use the db.ICplxTrans() function which takes the arguments (scale, rotation, mirror, x, y). Here we have used clear variable names to indicate their purpose. Once complete, we then insert the grating cell into the top cell as before, and supply the transformations or rotations in the DCellInstArray() function.\n",
    "\n",
    "[Back To Top](#contents)"
   ]
  },
  {
   "cell_type": "code",
   "execution_count": 1511,
   "metadata": {},
   "outputs": [
    {
     "data": {
      "text/plain": [
       "cell_index=2 r0 *2 2200000,0"
      ]
     },
     "execution_count": 1511,
     "metadata": {},
     "output_type": "execute_result"
    }
   ],
   "source": [
    "rotation_angle_1 = 90\n",
    "rotation_angle_2 = 45\n",
    "scale_factor_1 = 1\n",
    "scale_factor_2 = 2\n",
    "mirror = False\n",
    "transform_1 = db.ICplxTrans(scale_factor_1, 0, mirror, 0, 0)\n",
    "transform_2 = db.ICplxTrans(scale_factor_1, rotation_angle_1, mirror, 1100, 0)\n",
    "transform_3 = db.ICplxTrans(scale_factor_1, rotation_angle_2, mirror, 1600, 0)\n",
    "transform_4 = db.ICplxTrans(scale_factor_2, 0, mirror, 2200, 0)\n",
    "top_cell.insert(db.DCellInstArray(grating_cell.cell_index(), transform_1))\n",
    "top_cell.insert(db.DCellInstArray(grating_cell.cell_index(), transform_2))\n",
    "top_cell.insert(db.DCellInstArray(grating_cell.cell_index(), transform_3))\n",
    "top_cell.insert(db.DCellInstArray(grating_cell.cell_index(), transform_4))"
   ]
  },
  {
   "cell_type": "markdown",
   "metadata": {},
   "source": [
    "### Rotation Grating Results\n",
    "\n",
    "Now we should see four gratings, one as the original, one rotated by 90 degrees (note the difference in coordinates from the rotation), one rotated by 45 degrees, and one scaled by a factor 2 (note that this increases all dimensions by a factor 2, so the bar width and period have also scaled by a factor 2).\n",
    "\n",
    "![Example_TransformationGratings.png](./src/Images/Example_TransformationGratings.png)\n",
    "\n",
    "### Rotation Write Out\n",
    "\n",
    "Now we have built the grating cell and applied it to the top cell with the rotations and transformations, we want to write out. This is done exactly as before, but I will call this \"Example_TransformationGratings.gds\". This should create a cell called \"TOP\" under which there is a cell called \"Grating\" into which we wrote our grating pattern, with period, fill factor, and dose as detailed above.\n",
    "\n",
    "[Back To Top](#contents)"
   ]
  },
  {
   "cell_type": "code",
   "execution_count": 1512,
   "metadata": {},
   "outputs": [
    {
     "data": {
      "text/plain": [
       "<klayout.dbcore.Layout at 0x22d115d59a0>"
      ]
     },
     "execution_count": 1512,
     "metadata": {},
     "output_type": "execute_result"
    }
   ],
   "source": [
    "layout.write(f'{out_path}/Example_TransformationGratings.gds')"
   ]
  },
  {
   "cell_type": "markdown",
   "metadata": {},
   "source": [
    "## Merging Layouts\n",
    "\n",
    "What if we have some cells in a KLayout database that we like and we want to put them into another KLayout database? Fortunately, we can merge database cells together and translate them in much the same way we can with individual cells in a higher hierarchy cell.\n",
    "\n",
    "### Merging Database Setup\n",
    "\n",
    "Once again, we create a KLayout database with a top cell called \"TOP\", but here we have not changed the database units to um. Instead we are going to insert the three previously generated database files and insert them spaced 1mm apart in the vertical direction.\n",
    "\n",
    "[Back To Top](#contents)"
   ]
  },
  {
   "cell_type": "code",
   "execution_count": 1513,
   "metadata": {},
   "outputs": [],
   "source": [
    "layout = db.Layout()\n",
    "top_cell = layout.create_cell(\"TOP\")\n",
    "spacing_y = 2.0"
   ]
  },
  {
   "cell_type": "markdown",
   "metadata": {},
   "source": [
    "### Import Databases\n",
    "\n",
    "Note that this process doesn't seem to like file paths, so it is recommended to copy the databases into the same directory as this script to make it work.\n",
    "\n",
    "Here we have given a list of the previously generated database files and some names. Using a simple for loop, we can read the files in, import the top cells, import the cell tree, remove resources once they are no longer required using \"_destroy\", and then space the imported databases using the for loop and spacing parameter detailed above.\n",
    "\n",
    "[Back To Top](#contents)"
   ]
  },
  {
   "cell_type": "code",
   "execution_count": 1514,
   "metadata": {},
   "outputs": [],
   "source": [
    "file_list = [\n",
    "    'Example_FlatGratings.gds',\n",
    "    'Example_HierarchicalGratings.gds',\n",
    "    'Example_TransformationGratings.gds'\n",
    "]\n",
    "file_names = [\n",
    "    \"Flat\",\n",
    "    \"Hierarchical\",\n",
    "    \"Transformation\"\n",
    "]\n",
    "initial_y = 0.0\n",
    "for index, file in enumerate(file_list):\n",
    "    layout_import = db.Layout()\n",
    "    layout_import.read(file)\n",
    "    imported_top_cell = layout_import.top_cell()\n",
    "    target_cell = layout.create_cell(file_names[index])\n",
    "    target_cell.copy_tree(imported_top_cell)\n",
    "    layout_import._destroy()\n",
    "    insert = db.DCellInstArray(\n",
    "        target_cell.cell_index(),\n",
    "        db.DTrans(\n",
    "            db.DVector(\n",
    "                0,\n",
    "                initial_y\n",
    "            )\n",
    "        )\n",
    "    )\n",
    "    top_cell.insert(insert)\n",
    "    initial_y += target_cell.dbbox().height() + spacing_y"
   ]
  },
  {
   "cell_type": "markdown",
   "metadata": {},
   "source": [
    "### Merging Results\n",
    "\n",
    "The result is a hierarchical tree containing the three database files. Within each database file is the construction cells, layers, and shapes we created earlier.\n",
    "\n",
    "![Example_Merging.png](./src/Images/Example_Merging1.png)\n",
    "\n",
    "Increasing the hierarchy viewing we can see the resulting shapes.\n",
    "\n",
    "![Example_Merging2.png](./src/Images/Example_Merging2.png)\n",
    "\n",
    "### Merging Write Out\n",
    "\n",
    "Writing out is completed in the same fashion as before, here I have called the file \"Example_Merging.gds\". Note that the other database files are not in the main directory, without which the code will not run.\n",
    "\n",
    "[Back To Top](#contents)"
   ]
  },
  {
   "cell_type": "code",
   "execution_count": 1515,
   "metadata": {},
   "outputs": [
    {
     "data": {
      "text/plain": [
       "<klayout.dbcore.Layout at 0x22d115d6880>"
      ]
     },
     "execution_count": 1515,
     "metadata": {},
     "output_type": "execute_result"
    }
   ],
   "source": [
    "layout.write(f'{out_path}/Example_Merging.gds')"
   ]
  },
  {
   "cell_type": "markdown",
   "metadata": {},
   "source": [
    "## Creating a Chip\n",
    "\n",
    "Now let's combine everything to create a chip containing multiple gratings, we will also add text so that we can identify each grating and determine the grating dimensions.\n",
    "\n",
    "### Chip Database Setup\n",
    "\n",
    "Create the database setup in the same way as before and set the database units to micrometers.\n",
    "\n",
    "[Back To Top](#contents)"
   ]
  },
  {
   "cell_type": "code",
   "execution_count": 1516,
   "metadata": {},
   "outputs": [],
   "source": [
    "layout = db.Layout()\n",
    "layout.dbu = 0.001"
   ]
  },
  {
   "cell_type": "markdown",
   "metadata": {},
   "source": [
    "\n",
    "### Flat Grating Generation\n",
    "\n",
    "We will start by generating some flat gratings to go on our chip, this is the same process as before, but we will do this in a loop and generate the text that describes the gratings for later use. We will generate some grating periods, fill factors, and dose factors below.\n",
    "\n",
    "First, generate the grating parameter ranges, sample identifier string (this could be any string), and the grating dimensions. Here I have used the standard 500x500um grating.\n",
    "\n",
    "[Back To Top](#contents)"
   ]
  },
  {
   "cell_type": "code",
   "execution_count": 1517,
   "metadata": {},
   "outputs": [],
   "source": [
    "sample_identifier = \"Chip\"\n",
    "top_cell = layout.create_cell(f'{sample_identifier}')\n",
    "period_range = range(300, 801, 50)\n",
    "fill_factor_range = np.arange(0.6, 0.81, 0.1)\n",
    "dose_factor_range = np.arange(0.5, 2.1, 0.5)\n",
    "grating_height = 500\n",
    "grating_width = 500\n",
    "text_spacing = 75\n",
    "grating_spacing = 500"
   ]
  },
  {
   "cell_type": "markdown",
   "metadata": {},
   "source": [
    "### Flat Grating Cell\n",
    "\n",
    "We will create the gratings using loops for the period, fill factor, and dose ranges above and nest each grating in a cell for fill factor and dose ranges.\n",
    "\n",
    "#### Dose Factor Loop\n",
    "\n",
    "Begin by setting up a cell for flat gratings, called \"Flat_Gratings\", and loop through the dose factor range. The range is indexed to allow for algorithmic spacing of the gratings. The dose factor affects the layer dose, so this is set first, and then each loop has its own identifier string so that the cells can have unique names. The dose factor loop sits at the top so that we can space groups of gratings at different doses more easily.\n",
    "\n",
    "#### Fill Factor Loop\n",
    "\n",
    "The fill factor loop is next, with each fill factor group having its own unique identifier string and cell. The cell contains gratings with different periods and the same fill factor. Again the loop is index for easier algorithmic spacing.\n",
    "\n",
    "#### Period Loop\n",
    "\n",
    "It is within the period loop that the grating is constructed, in much the same way as before. Starting by setting up a singular grating bar, and then extending using the period into a full grating.\n",
    "\n",
    "#### Putting Together\n",
    "\n",
    "Nesting the individual loops is achieved by inserting the spacing dimensions, and the vector for spacing the nested cells in the flat cell.\n",
    "\n",
    "[Back To Top](#contents)"
   ]
  },
  {
   "cell_type": "code",
   "execution_count": 1518,
   "metadata": {},
   "outputs": [],
   "source": [
    "flat_cell = layout.create_cell('Flat_Gratings')\n",
    "for i, dose in enumerate(dose_factor_range):\n",
    "    layer = layout.layer(i, dose * 1000)\n",
    "    dose_identifier = f'df{dose}'\n",
    "    dose_cell = layout.create_cell(f'DF_{dose_identifier}')\n",
    "    for j, ffs in enumerate(fill_factor_range):\n",
    "        ff = round(ffs, 1)\n",
    "        row_identifier = f'df{dose}_ff{ff}'\n",
    "        ff_cell = layout.create_cell(f'FF_{row_identifier}')\n",
    "        for k, period in enumerate(period_range):\n",
    "            grating_period = period / 1000\n",
    "            grating_identifier = f'df{dose}_ff{ff}_p{period}'\n",
    "            bar_cell = layout.create_cell(f'Bar_{grating_identifier}')\n",
    "            bar_origin = db.DPoint(0, 0)\n",
    "            grating_bar = db.DBox(\n",
    "                bar_origin,\n",
    "                (\n",
    "                    bar_origin +\n",
    "                    db.DVector(\n",
    "                        grating_period * (1 - ff),\n",
    "                        grating_height\n",
    "                    )\n",
    "                )\n",
    "            )\n",
    "            bar_cell.shapes(layer).insert(grating_bar)\n",
    "            number_of_bars = math.floor(grating_width / grating_period)\n",
    "            grating_cell = layout.create_cell(f'Grating_{grating_identifier}')\n",
    "            for n in range(0, number_of_bars):\n",
    "                grating_cell.insert(\n",
    "                    db.DCellInstArray(\n",
    "                        bar_cell.cell_index(),\n",
    "                        db.DTrans(\n",
    "                            n * grating_period,\n",
    "                            0\n",
    "                        )\n",
    "                    )\n",
    "                )\n",
    "            ff_cell.insert(\n",
    "                db.DCellInstArray(\n",
    "                    grating_cell.cell_index(),\n",
    "                    db.DTrans(\n",
    "                        db.DVector(\n",
    "                            k * (grating_width + grating_spacing),\n",
    "                            0\n",
    "                        )\n",
    "                    )\n",
    "                )\n",
    "            )\n",
    "        dose_cell.insert(\n",
    "            db.DCellInstArray(\n",
    "                ff_cell.cell_index(),\n",
    "                db.DTrans(\n",
    "                    db.DVector(\n",
    "                        0,\n",
    "                        j * (grating_height + grating_spacing)\n",
    "                    )\n",
    "                )\n",
    "            )\n",
    "        )\n",
    "    flat_cell.insert(\n",
    "        db.DCellInstArray(\n",
    "            dose_cell.cell_index(),\n",
    "            db.DTrans(\n",
    "                db.DVector(\n",
    "                    0,\n",
    "                    i * (\n",
    "                        (grating_height * len(fill_factor_range)) +\n",
    "                        (grating_spacing * len(fill_factor_range))\n",
    "                    )\n",
    "                )\n",
    "            )\n",
    "        )\n",
    "    )"
   ]
  },
  {
   "cell_type": "markdown",
   "metadata": {},
   "source": [
    "### Adding Text\n",
    "\n",
    "We want the individual gratings to be identifiable under microscope. We have already given the gratings individual labels and stored them in the gratings dictionary above. Now we can use those to label the individual gratings with text. Firstly, however, we will create the grating labels individually.\n",
    "\n",
    "First we start by defining the text magnification and the generator function. For gratings of size 500x500um, a magnification of 50 is sufficient, and it easily observable under optical microscope. Then, as with the gratings, we will divide the for loops up and repeat the nesting of cells using the algorithmic spacings.\n",
    "\n",
    "Finally, we are going to create a dictionary, called \"Gratings\" which will allow us to write the text as a key somewhere else on the chip that does not interfere with the grating region.\n",
    "\n",
    "[Back To Top](#contents)"
   ]
  },
  {
   "cell_type": "code",
   "execution_count": 1519,
   "metadata": {},
   "outputs": [],
   "source": [
    "text_magnification = 50\n",
    "generator = db.TextGenerator.default_generator()\n",
    "flat_cell_text = layout.create_cell(\"Flat_Gratings_Text\")\n",
    "text_layer = layout.layer(len(dose_factor_range) + 1, 2000)\n",
    "gratings = {}\n",
    "for i, dose in enumerate(dose_factor_range):\n",
    "    dose_identifier = f'df{dose}'\n",
    "    dose_cell_text = layout.create_cell(f'DF_{dose_identifier}_Text')\n",
    "    for j, ffs in enumerate(fill_factor_range):\n",
    "        ff = round(ffs, 1)\n",
    "        row_identifier = f'df{dose}_ff{ff}'\n",
    "        ff_cell_text = layout.create_cell(f'FF_{row_identifier}_Text')\n",
    "        for k, period in enumerate(period_range):\n",
    "            grating_identifier = f'df{dose}_ff{ff}_p{period}'\n",
    "            grating_number = f'{sample_identifier}.{i}.{j}.{k}'\n",
    "            gratings.update({grating_number: grating_identifier})\n",
    "            grating_cell_text = layout.create_cell(f'Grating_{grating_identifier}_Text')\n",
    "            region = generator.text(\n",
    "                grating_number,\n",
    "                layout.dbu,\n",
    "                text_magnification)\n",
    "            grating_cell_text.shapes(text_layer).insert(\n",
    "                region,\n",
    "                db.DTrans(\n",
    "                    db.DVector(\n",
    "                        0,\n",
    "                        grating_height + text_spacing\n",
    "                    )\n",
    "                )\n",
    "            )\n",
    "            ff_cell_text.insert(\n",
    "                db.DCellInstArray(\n",
    "                    grating_cell_text.cell_index(),\n",
    "                    db.DTrans(\n",
    "                        db.DVector(\n",
    "                            k * (grating_width + grating_spacing),\n",
    "                            0\n",
    "                        )\n",
    "                    )\n",
    "                )\n",
    "            )\n",
    "        dose_cell_text.insert(\n",
    "            db.DCellInstArray(\n",
    "                ff_cell_text.cell_index(),\n",
    "                db.DTrans(\n",
    "                    db.DVector(\n",
    "                        0,\n",
    "                        j * (grating_height + grating_spacing)\n",
    "                    )\n",
    "                )\n",
    "            )\n",
    "        )\n",
    "    flat_cell_text.insert(\n",
    "        db.DCellInstArray(\n",
    "            dose_cell_text.cell_index(),\n",
    "            db.DTrans(\n",
    "                db.DVector(\n",
    "                    0,\n",
    "                    i * (\n",
    "                        (grating_height * len(fill_factor_range)) +\n",
    "                        (grating_spacing * len(fill_factor_range))\n",
    "                    )\n",
    "                )\n",
    "            )\n",
    "        )\n",
    "    )"
   ]
  },
  {
   "cell_type": "markdown",
   "metadata": {},
   "source": [
    "### Adding Cells to Top\n",
    "\n",
    "Adding cells to the top cell is as simple as as has been demonstrated in the previous sections. Here we have aligned the cells to (0, 0) and they can be placed on top of each other.\n",
    "\n",
    "[Back To Top](#contents)"
   ]
  },
  {
   "cell_type": "code",
   "execution_count": 1520,
   "metadata": {},
   "outputs": [
    {
     "data": {
      "text/plain": [
       "cell_index=282 r0 0,0"
      ]
     },
     "execution_count": 1520,
     "metadata": {},
     "output_type": "execute_result"
    }
   ],
   "source": [
    "top_cell.insert(\n",
    "    db.DCellInstArray(\n",
    "        flat_cell.cell_index(),\n",
    "        db.DTrans(\n",
    "            0,\n",
    "            0\n",
    "        )\n",
    "    )\n",
    ")\n",
    "top_cell.insert(\n",
    "    db.DCellInstArray(\n",
    "        flat_cell_text.cell_index(),\n",
    "        db.DTrans(\n",
    "            0,\n",
    "            0\n",
    "        )\n",
    "    )\n",
    ")"
   ]
  },
  {
   "cell_type": "markdown",
   "metadata": {},
   "source": [
    "### Grating Keys\n",
    "\n",
    "Using the gratings dictionary made above, we can write up a key to be placed somewhere on the chip so that we know what each grating is. Again this is only valid for flat gratings as the dictionary is populated during the creation of flat gratings.\n",
    "\n",
    "The text settings are exactly the same as before.\n",
    "\n",
    "[Back To Top](#contents)"
   ]
  },
  {
   "cell_type": "code",
   "execution_count": 1521,
   "metadata": {},
   "outputs": [
    {
     "data": {
      "text/plain": [
       "cell_index=431 r0 11000000,0"
      ]
     },
     "execution_count": 1521,
     "metadata": {},
     "output_type": "execute_result"
    }
   ],
   "source": [
    "key_cell = layout.create_cell(\"Flat_Gratings_Key\")\n",
    "all_keys = gratings.keys()\n",
    "for index, key in enumerate(all_keys):\n",
    "    text_string = f'{key} = {gratings[key]}'\n",
    "    region = generator.text(\n",
    "        text_string,\n",
    "        layout.dbu,\n",
    "        text_magnification\n",
    "    )\n",
    "    key_cell.shapes(text_layer).insert(\n",
    "        region,\n",
    "        db.DTrans(\n",
    "            db.DVector(\n",
    "                0,\n",
    "                index * text_spacing\n",
    "            )\n",
    "        )\n",
    "    )\n",
    "top_cell.insert(\n",
    "    db.DCellInstArray(\n",
    "        key_cell.cell_index(),\n",
    "        db.DTrans(\n",
    "            db.DVector(\n",
    "                len(period_range) * (grating_width + grating_spacing),\n",
    "                0\n",
    "            )\n",
    "        )\n",
    "    )\n",
    ")"
   ]
  },
  {
   "cell_type": "markdown",
   "metadata": {},
   "source": [
    "### Flat Cell Results\n",
    "\n",
    "The result is a hierarchical tree containing gratings with different dose factors, fill factors, and periods, arranged in an algebraic grid with individual labels. The labels correspond to the dose factor, fill factor, and period and are labelled in a key next to the gratings.\n",
    "\n",
    "![Example_Chip.png](./src/Images/Example_Chip.png)\n",
    "\n",
    "### Flat Cell Write Out\n",
    "\n",
    "Once again, the write out process is the same, this time the file is called \"Example_Chip.gds\"."
   ]
  },
  {
   "cell_type": "code",
   "execution_count": 1522,
   "metadata": {},
   "outputs": [
    {
     "data": {
      "text/plain": [
       "<klayout.dbcore.Layout at 0x22d115d6d50>"
      ]
     },
     "execution_count": 1522,
     "metadata": {},
     "output_type": "execute_result"
    }
   ],
   "source": [
    "layout.write(f'{out_path}/Example_Chip.gds')"
   ]
  }
 ],
 "metadata": {
  "kernelspec": {
   "display_name": "Python 3",
   "language": "python",
   "name": "python3"
  },
  "language_info": {
   "codemirror_mode": {
    "name": "ipython",
    "version": 3
   },
   "file_extension": ".py",
   "mimetype": "text/x-python",
   "name": "python",
   "nbconvert_exporter": "python",
   "pygments_lexer": "ipython3",
   "version": "3.10.0"
  },
  "orig_nbformat": 4
 },
 "nbformat": 4,
 "nbformat_minor": 2
}
