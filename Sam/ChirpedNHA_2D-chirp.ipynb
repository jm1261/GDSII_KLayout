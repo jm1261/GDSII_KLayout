{
 "cells": [
  {
   "attachments": {},
   "cell_type": "markdown",
   "metadata": {},
   "source": [
    "Imports"
   ]
  },
  {
   "cell_type": "code",
   "execution_count": 174,
   "metadata": {},
   "outputs": [],
   "source": [
    "import numpy as np\n",
    "import klayout.db as db"
   ]
  },
  {
   "attachments": {},
   "cell_type": "markdown",
   "metadata": {},
   "source": [
    "Parameters for grating"
   ]
  },
  {
   "cell_type": "code",
   "execution_count": 175,
   "metadata": {},
   "outputs": [
    {
     "name": "stdout",
     "output_type": "stream",
     "text": [
      "Num of periods : (122, 156)\n"
     ]
    }
   ],
   "source": [
    "## Yue Wang\n",
    "folder_name = 'YueWang'\n",
    "feature_size = 0.150\n",
    "\n",
    "save_name = 'YW_Px410-Py320-50um'\n",
    "widths = [0, 50]\n",
    "heights = [0, 50]\n",
    "y_periods = [0.320, 0.320]\n",
    "x_periods = [0.410, 0.410]\n",
    "\n",
    "# save_name = 'YW_Px420-Py325-100um'\n",
    "# widths = [0, 100]\n",
    "# heights = [0, 100]\n",
    "# y_periods = [0.325, 0.325]\n",
    "# x_periods = [0.420, 0.420]\n",
    "\n",
    "# save_name = 'YW_Px420-Py325-200um'\n",
    "# widths = [0, 200]\n",
    "# heights = [0, 200]\n",
    "# y_periods = [0.325, 0.325]\n",
    "# x_periods = [0.420, 0.420]\n",
    "\n",
    "# save_name = 'YW_Px420-Py325-400um'\n",
    "# widths = [0, 400]\n",
    "# heights = [0, 400]\n",
    "# y_periods = [0.325, 0.325]\n",
    "# x_periods = [0.420, 0.420]\n",
    "\n",
    "cell_name = save_name\n",
    "\n",
    "layer_number = 0\n",
    "layer_dose = 1.0 # Check this works in Voyager, multiplier may be incorrect\n",
    "\n",
    "# ONLY WORKS WITH TWO PERIODS IN EITHER X OR Y OR BOTH, MORE THAN TWO WILL NOT TILE CORRECTLY\n",
    "# widths = [0, 500]\n",
    "# heights = [0, 500]\n",
    "# y_periods = [0.320, 0.320]\n",
    "# x_periods = [0.400, 0.400]\n",
    "radius = feature_size/2\n",
    "num_of_vertices = 16\n",
    "# ffs = [0.5, 0.5] # Not implemented\n",
    "\n",
    "squares = True\n",
    "\n",
    "grating_x = 0\n",
    "grating_y = 0\n",
    "\n",
    "# 'num_of_periods' needs to be even so that the grating can be generated \n",
    "# around the centre point, this is required due to the change in period\n",
    "# if we want the pattern to be 'bow-tie' shaped\n",
    "num_of_x_periods = round((max(widths) - min(widths)) / max(x_periods))\n",
    "if num_of_x_periods % 2 == 1:\n",
    "    num_of_x_periods = num_of_x_periods - 1\n",
    "\n",
    "num_of_y_periods = round((max(heights) - min(heights)) / max(y_periods))\n",
    "if num_of_y_periods % 2 == 1:\n",
    "    num_of_y_periods = num_of_y_periods - 1\n",
    "\n",
    "print(f'Num of periods : ({num_of_x_periods}, {num_of_y_periods})')"
   ]
  },
  {
   "attachments": {},
   "cell_type": "markdown",
   "metadata": {},
   "source": [
    "KLayout set up\n",
    "\n",
    "*Note: A new layout must be defined if changes in grating parameters are made*"
   ]
  },
  {
   "cell_type": "code",
   "execution_count": 176,
   "metadata": {},
   "outputs": [],
   "source": [
    "layout = db.Layout()\n",
    "\n",
    "# sets the database unit to 1 um, base usits seem to be millimeters.\n",
    "layout.dbu = 0.001\n",
    "\n",
    "cell = layout.create_cell(cell_name)\n",
    "layer = layout.layer(layer_number, int(layer_dose * 1000)) # Check dose multiplier"
   ]
  },
  {
   "attachments": {},
   "cell_type": "markdown",
   "metadata": {},
   "source": [
    "Determine centre-point of each hole.  Translate all coordinates to final location."
   ]
  },
  {
   "cell_type": "code",
   "execution_count": 177,
   "metadata": {},
   "outputs": [
    {
     "name": "stdout",
     "output_type": "stream",
     "text": [
      "[(0.0, 0.0, 0.075), (0.0, 0.32, 0.075), (0.0, 0.64, 0.075), (0.0, 0.96, 0.075), (0.0, 1.28, 0.075)]\n"
     ]
    }
   ],
   "source": [
    "xs = []\n",
    "ys = []\n",
    "rs = []\n",
    "\n",
    "for idx in range(1, len(x_periods)):\n",
    "    # first row x-coordinates\n",
    "    first_x = np.arange(0, (num_of_x_periods * x_periods[idx-1]) + x_periods[idx-1], x_periods[idx-1])\n",
    "    first_x = first_x[:num_of_x_periods] # force array to be 'num_of_periods' long\n",
    "\n",
    "    # last row x-coordinates\n",
    "    last_x = np.arange(0, (num_of_x_periods * x_periods[idx])+ x_periods[idx], x_periods[idx])\n",
    "    last_x = last_x[:num_of_x_periods] # force array to be 'num_of_periods' long\n",
    "\n",
    "    for fx, lx in zip(first_x, last_x):\n",
    "        xs.extend(list(np.linspace(fx, lx, num_of_y_periods) + grating_x))\n",
    "        rs.extend(list(np.ones(num_of_x_periods) * radius))\n",
    "\n",
    "for idx in range(1, len(y_periods)):\n",
    "    # first column y-coordinates\n",
    "    first_y = np.arange(0, (num_of_y_periods * y_periods[idx-1]) + y_periods[idx-1], y_periods[idx-1])\n",
    "    first_y = first_y[:num_of_y_periods] # force array to be 'num_of_periods' long\n",
    "\n",
    "    # last column y-coordinates\n",
    "    last_y = np.arange(0, (num_of_y_periods * y_periods[idx]) + y_periods[idx], y_periods[idx])\n",
    "    last_y = last_y[:num_of_y_periods] # force array to be 'num_of_periods' long\n",
    "\n",
    "    for fy, ly in zip(first_y, last_y):\n",
    "        ys.extend(list(np.linspace(fy, ly, num_of_x_periods) + grating_y))\n",
    "\n",
    "# As built the 'ys' array is not 'interleved' correctly with the xs array, this is because the 'linspace'\n",
    "# array is built in one go for both x and y.  To fix this, the 'ys' array needs to be rotated\n",
    "# however the arrays are actually 1D vectors, so first I reshape the array into a square with side length\n",
    "# 'num_of_x_periods' then 'transpose' to rotate the array, then 'ravel' to make it into a\n",
    "# 1D vector for further processing\n",
    "ys = list(np.asarray(ys).reshape(-1, num_of_x_periods).transpose().ravel())\n",
    "\n",
    "print(list(zip(xs, ys, rs))[0:5])"
   ]
  },
  {
   "attachments": {},
   "cell_type": "markdown",
   "metadata": {},
   "source": [
    "Concactenate x and y coordinates, use them to create a 'DPoint' then use these to create 'DPolygon's.  Adding these polygons to the cell called 'top'"
   ]
  },
  {
   "cell_type": "code",
   "execution_count": 178,
   "metadata": {},
   "outputs": [],
   "source": [
    "for x, y, r in zip(xs, ys, rs):\n",
    "    if squares:\n",
    "        c = db.DBox(x-r, y-r, x+r, y+r)\n",
    "    else:\n",
    "        c = db.DPolygon.ellipse(db.DBox(x-r, y-r, x+r, y+r), num_of_vertices)\n",
    "    cell.shapes(layer).insert(c)"
   ]
  },
  {
   "attachments": {},
   "cell_type": "markdown",
   "metadata": {},
   "source": [
    "Save out the completed GDSII file"
   ]
  },
  {
   "cell_type": "code",
   "execution_count": 179,
   "metadata": {},
   "outputs": [
    {
     "data": {
      "text/plain": [
       "<klayout.dbcore.Layout at 0x16df1e3c0>"
      ]
     },
     "execution_count": 179,
     "metadata": {},
     "output_type": "execute_result"
    }
   ],
   "source": [
    "layout.write(f'{folder_name}/{save_name}.gds')"
   ]
  }
 ],
 "metadata": {
  "kernelspec": {
   "display_name": ".venv",
   "language": "python",
   "name": "python3"
  },
  "language_info": {
   "codemirror_mode": {
    "name": "ipython",
    "version": 3
   },
   "file_extension": ".py",
   "mimetype": "text/x-python",
   "name": "python",
   "nbconvert_exporter": "python",
   "pygments_lexer": "ipython3",
   "version": "3.10.5"
  },
  "orig_nbformat": 4
 },
 "nbformat": 4,
 "nbformat_minor": 2
}
